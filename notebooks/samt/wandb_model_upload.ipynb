{
 "cells": [
  {
   "cell_type": "markdown",
   "id": "ddfae0c1-5749-4f29-b380-ebf1e85c91fc",
   "metadata": {},
   "source": [
    "### Uploading models from FinBERT-QA repo to wandb"
   ]
  },
  {
   "cell_type": "markdown",
   "id": "b742a737-cd61-4f06-8c05-6669547b8faf",
   "metadata": {},
   "source": [
    "## Note\n",
    "\n",
    "- This notebook was run in the root directory of the FinBERT-QA repo after downloading all the models locally.\n",
    "\n",
    "- The models have *already* been uploaded to WANDB. \n",
    "\n",
    "    - It is unnecessary to run this notebook again, I keep it only as reference.\n",
    "\n"
   ]
  },
  {
   "cell_type": "code",
   "execution_count": 1,
   "id": "9d2b764e-c43f-4a6e-90ec-92be7977b9ac",
   "metadata": {},
   "outputs": [],
   "source": [
    "import wandb"
   ]
  },
  {
   "cell_type": "code",
   "execution_count": 3,
   "id": "70d68715-a249-4282-9560-569dde01734d",
   "metadata": {},
   "outputs": [
    {
     "name": "stderr",
     "output_type": "stream",
     "text": [
      "\u001b[34m\u001b[1mwandb\u001b[0m: Logging into wandb.ai. (Learn how to deploy a W&B server locally: https://wandb.me/wandb-server)\n",
      "\u001b[34m\u001b[1mwandb\u001b[0m: You can find your API key in your browser here: https://wandb.ai/authorize\n",
      "\u001b[34m\u001b[1mwandb\u001b[0m: Paste an API key from your profile and hit enter, or press ctrl+c to quit:"
     ]
    },
    {
     "name": "stdin",
     "output_type": "stream",
     "text": [
      "  ········\n"
     ]
    },
    {
     "name": "stderr",
     "output_type": "stream",
     "text": [
      "\u001b[34m\u001b[1mwandb\u001b[0m: Appending key for api.wandb.ai to your netrc file: /Users/samtonetto/.netrc\n"
     ]
    },
    {
     "data": {
      "text/plain": [
       "True"
      ]
     },
     "execution_count": 3,
     "metadata": {},
     "output_type": "execute_result"
    }
   ],
   "source": [
    "wandb.login(relogin=True)"
   ]
  },
  {
   "cell_type": "code",
   "execution_count": 4,
   "id": "972e3b1e-b053-4c6c-9172-e4b919b7ef2b",
   "metadata": {},
   "outputs": [],
   "source": [
    "pretrained_names = ['bert-base', 'bert-base-uncased', 'bert-qa', 'finbert-domain', 'finbert-task']\n",
    "finetuned_names = ['bert-pairwise', 'bert-pointwise', 'finbert-domain', 'finbert-qa', 'finbert-task', 'qa-lstm']\n",
    "finetuned_models = ['1_pairwisewise50_128_32_3e6_05.pt',\n",
    "                   '2_pointwise50_512_16_3e6.pt',\n",
    "                   '2_finbert-domain-50_512_16_3e6.pt',\n",
    "                   '2_finbert-qa-50_512_16_3e6.pt',\n",
    "                   '2_finbert-task-50_512_16_3e6.pt',\n",
    "                   '3_lstm50_128_64_1e3.pt']"
   ]
  },
  {
   "cell_type": "code",
   "execution_count": 3,
   "id": "24adfdf8-03a5-4ea2-90bf-b45792aa9f07",
   "metadata": {
    "collapsed": true,
    "jupyter": {
     "outputs_hidden": true
    },
    "tags": []
   },
   "outputs": [
    {
     "name": "stderr",
     "output_type": "stream",
     "text": [
      "\u001b[34m\u001b[1mwandb\u001b[0m: Currently logged in as: \u001b[33msamtonetto\u001b[0m (\u001b[33msemanticsearch\u001b[0m). Use \u001b[1m`wandb login --relogin`\u001b[0m to force relogin\n"
     ]
    },
    {
     "data": {
      "text/html": [
       "Tracking run with wandb version 0.13.3"
      ],
      "text/plain": [
       "<IPython.core.display.HTML object>"
      ]
     },
     "metadata": {},
     "output_type": "display_data"
    },
    {
     "data": {
      "text/html": [
       "Run data is saved locally in <code>/Users/samtonetto/Learning/FSDL2022/FinBERT-QA/model/wandb/run-20220923_123456-2yoj5wh7</code>"
      ],
      "text/plain": [
       "<IPython.core.display.HTML object>"
      ]
     },
     "metadata": {},
     "output_type": "display_data"
    },
    {
     "data": {
      "text/html": [
       "Syncing run <strong><a href=\"https://wandb.ai/semanticsearch/FinBERT-QA_pretrained_models/runs/2yoj5wh7\" target=\"_blank\">valiant-star-1</a></strong> to <a href=\"https://wandb.ai/semanticsearch/FinBERT-QA_pretrained_models\" target=\"_blank\">Weights & Biases</a> (<a href=\"https://wandb.me/run\" target=\"_blank\">docs</a>)<br/>"
      ],
      "text/plain": [
       "<IPython.core.display.HTML object>"
      ]
     },
     "metadata": {},
     "output_type": "display_data"
    },
    {
     "name": "stdout",
     "output_type": "stream",
     "text": [
      "Logging bert-base\n",
      "Logging bert-base-uncased\n",
      "Logging bert-qa\n",
      "Logging finbert-domain\n",
      "Logging finbert-task\n"
     ]
    },
    {
     "data": {
      "text/html": [
       "Finishing last run (ID:2yoj5wh7) before initializing another..."
      ],
      "text/plain": [
       "<IPython.core.display.HTML object>"
      ]
     },
     "metadata": {},
     "output_type": "display_data"
    },
    {
     "data": {
      "text/html": [
       "Waiting for W&B process to finish... <strong style=\"color:green\">(success).</strong>"
      ],
      "text/plain": [
       "<IPython.core.display.HTML object>"
      ]
     },
     "metadata": {},
     "output_type": "display_data"
    },
    {
     "data": {
      "application/vnd.jupyter.widget-view+json": {
       "model_id": "",
       "version_major": 2,
       "version_minor": 0
      },
      "text/plain": [
       "VBox(children=(Label(value='1258.049 MB of 1258.049 MB uploaded (0.000 MB deduped)\\r'), FloatProgress(value=1.…"
      ]
     },
     "metadata": {},
     "output_type": "display_data"
    },
    {
     "data": {
      "text/html": [
       "Synced <strong style=\"color:#cdcd00\">valiant-star-1</strong>: <a href=\"https://wandb.ai/semanticsearch/FinBERT-QA_pretrained_models/runs/2yoj5wh7\" target=\"_blank\">https://wandb.ai/semanticsearch/FinBERT-QA_pretrained_models/runs/2yoj5wh7</a><br/>Synced 5 W&B file(s), 0 media file(s), 6 artifact file(s) and 0 other file(s)"
      ],
      "text/plain": [
       "<IPython.core.display.HTML object>"
      ]
     },
     "metadata": {},
     "output_type": "display_data"
    },
    {
     "data": {
      "text/html": [
       "Find logs at: <code>./wandb/run-20220923_123456-2yoj5wh7/logs</code>"
      ],
      "text/plain": [
       "<IPython.core.display.HTML object>"
      ]
     },
     "metadata": {},
     "output_type": "display_data"
    },
    {
     "data": {
      "text/html": [
       "Successfully finished last run (ID:2yoj5wh7). Initializing new run:<br/>"
      ],
      "text/plain": [
       "<IPython.core.display.HTML object>"
      ]
     },
     "metadata": {},
     "output_type": "display_data"
    },
    {
     "data": {
      "application/vnd.jupyter.widget-view+json": {
       "model_id": "78d3652cb37e430b9c461b717a9d22c3",
       "version_major": 2,
       "version_minor": 0
      },
      "text/plain": [
       "VBox(children=(Label(value='Waiting for wandb.init()...\\r'), FloatProgress(value=0.03352373441060384, max=1.0)…"
      ]
     },
     "metadata": {},
     "output_type": "display_data"
    },
    {
     "data": {
      "text/html": [
       "Tracking run with wandb version 0.13.3"
      ],
      "text/plain": [
       "<IPython.core.display.HTML object>"
      ]
     },
     "metadata": {},
     "output_type": "display_data"
    },
    {
     "data": {
      "text/html": [
       "Run data is saved locally in <code>/Users/samtonetto/Learning/FSDL2022/FinBERT-QA/model/wandb/run-20220923_123508-1dmmps4t</code>"
      ],
      "text/plain": [
       "<IPython.core.display.HTML object>"
      ]
     },
     "metadata": {},
     "output_type": "display_data"
    },
    {
     "data": {
      "text/html": [
       "Syncing run <strong><a href=\"https://wandb.ai/semanticsearch/FinBERT-QA_finetuned_models/runs/1dmmps4t\" target=\"_blank\">dashing-bee-1</a></strong> to <a href=\"https://wandb.ai/semanticsearch/FinBERT-QA_finetuned_models\" target=\"_blank\">Weights & Biases</a> (<a href=\"https://wandb.me/run\" target=\"_blank\">docs</a>)<br/>"
      ],
      "text/plain": [
       "<IPython.core.display.HTML object>"
      ]
     },
     "metadata": {},
     "output_type": "display_data"
    },
    {
     "name": "stdout",
     "output_type": "stream",
     "text": [
      "Logging trained/bert-pairwise\n"
     ]
    },
    {
     "ename": "ValueError",
     "evalue": "Artifact name may only contain alphanumeric characters, dashes, underscores, and dots. Invalid name: \"trained/bert-pairwise\"",
     "output_type": "error",
     "traceback": [
      "\u001b[0;31m---------------------------------------------------------------------------\u001b[0m",
      "\u001b[0;31mValueError\u001b[0m                                Traceback (most recent call last)",
      "Cell \u001b[0;32mIn [3], line 24\u001b[0m\n\u001b[1;32m     22\u001b[0m \u001b[38;5;28;01mfor\u001b[39;00m i \u001b[38;5;129;01min\u001b[39;00m \u001b[38;5;28mrange\u001b[39m(\u001b[38;5;28mlen\u001b[39m(finetuned)):\n\u001b[1;32m     23\u001b[0m     \u001b[38;5;28mprint\u001b[39m(\u001b[38;5;124m'\u001b[39m\u001b[38;5;124mLogging trained/\u001b[39m\u001b[38;5;124m'\u001b[39m \u001b[38;5;241m+\u001b[39m finetuned[i])\n\u001b[0;32m---> 24\u001b[0m     art \u001b[38;5;241m=\u001b[39m \u001b[43mwandb\u001b[49m\u001b[38;5;241;43m.\u001b[39;49m\u001b[43mArtifact\u001b[49m\u001b[43m(\u001b[49m\u001b[38;5;124;43m'\u001b[39;49m\u001b[38;5;124;43mtrained/\u001b[39;49m\u001b[38;5;124;43m'\u001b[39;49m\u001b[43m \u001b[49m\u001b[38;5;241;43m+\u001b[39;49m\u001b[43m \u001b[49m\u001b[43mfinetuned\u001b[49m\u001b[43m[\u001b[49m\u001b[43mi\u001b[49m\u001b[43m]\u001b[49m\u001b[43m,\u001b[49m\u001b[43m \u001b[49m\u001b[38;5;28;43mtype\u001b[39;49m\u001b[38;5;241;43m=\u001b[39;49m\u001b[38;5;124;43m'\u001b[39;49m\u001b[38;5;124;43mmodel\u001b[39;49m\u001b[38;5;124;43m'\u001b[39;49m\u001b[43m)\u001b[49m\n\u001b[1;32m     25\u001b[0m     art\u001b[38;5;241m.\u001b[39madd_file(\u001b[38;5;124m'\u001b[39m\u001b[38;5;124mtrained/\u001b[39m\u001b[38;5;124m'\u001b[39m \u001b[38;5;241m+\u001b[39m finetuned[i] \u001b[38;5;241m+\u001b[39m \u001b[38;5;124m'\u001b[39m\u001b[38;5;124m/\u001b[39m\u001b[38;5;124m'\u001b[39m \u001b[38;5;241m+\u001b[39m finetuned_models[i])\n\u001b[1;32m     26\u001b[0m     wandb\u001b[38;5;241m.\u001b[39mlog_artifact(art)\n",
      "File \u001b[0;32m~/Library/Caches/pypoetry/virtualenvs/finbert-qa-XSIaFsqe-py3.10/lib/python3.10/site-packages/wandb/sdk/wandb_artifacts.py:150\u001b[0m, in \u001b[0;36mArtifact.__init__\u001b[0;34m(self, name, type, description, metadata, incremental, use_as)\u001b[0m\n\u001b[1;32m    140\u001b[0m \u001b[38;5;28;01mdef\u001b[39;00m \u001b[38;5;21m__init__\u001b[39m(\n\u001b[1;32m    141\u001b[0m     \u001b[38;5;28mself\u001b[39m,\n\u001b[1;32m    142\u001b[0m     name: \u001b[38;5;28mstr\u001b[39m,\n\u001b[0;32m   (...)\u001b[0m\n\u001b[1;32m    147\u001b[0m     use_as: Optional[\u001b[38;5;28mstr\u001b[39m] \u001b[38;5;241m=\u001b[39m \u001b[38;5;28;01mNone\u001b[39;00m,\n\u001b[1;32m    148\u001b[0m ) \u001b[38;5;241m-\u001b[39m\u001b[38;5;241m>\u001b[39m \u001b[38;5;28;01mNone\u001b[39;00m:\n\u001b[1;32m    149\u001b[0m     \u001b[38;5;28;01mif\u001b[39;00m \u001b[38;5;129;01mnot\u001b[39;00m re\u001b[38;5;241m.\u001b[39mmatch(\u001b[38;5;124mr\u001b[39m\u001b[38;5;124m\"\u001b[39m\u001b[38;5;124m^[a-zA-Z0-9_\u001b[39m\u001b[38;5;124m\\\u001b[39m\u001b[38;5;124m-.]+$\u001b[39m\u001b[38;5;124m\"\u001b[39m, name):\n\u001b[0;32m--> 150\u001b[0m         \u001b[38;5;28;01mraise\u001b[39;00m \u001b[38;5;167;01mValueError\u001b[39;00m(\n\u001b[1;32m    151\u001b[0m             \u001b[38;5;124m\"\u001b[39m\u001b[38;5;124mArtifact name may only contain alphanumeric characters, dashes, underscores, and dots. \u001b[39m\u001b[38;5;124m\"\u001b[39m\n\u001b[1;32m    152\u001b[0m             \u001b[38;5;124m'\u001b[39m\u001b[38;5;124mInvalid name: \u001b[39m\u001b[38;5;124m\"\u001b[39m\u001b[38;5;132;01m%s\u001b[39;00m\u001b[38;5;124m\"\u001b[39m\u001b[38;5;124m'\u001b[39m \u001b[38;5;241m%\u001b[39m name\n\u001b[1;32m    153\u001b[0m         )\n\u001b[1;32m    154\u001b[0m     metadata \u001b[38;5;241m=\u001b[39m _normalize_metadata(metadata)\n\u001b[1;32m    155\u001b[0m     \u001b[38;5;66;03m# TODO: this shouldn't be a property of the artifact. It's a more like an\u001b[39;00m\n\u001b[1;32m    156\u001b[0m     \u001b[38;5;66;03m# argument to log_artifact.\u001b[39;00m\n",
      "\u001b[0;31mValueError\u001b[0m: Artifact name may only contain alphanumeric characters, dashes, underscores, and dots. Invalid name: \"trained/bert-pairwise\""
     ]
    }
   ],
   "source": [
    "wandb.init(entity=\"semanticsearch\", project=\"FinBERT-QA_pretrained_models\", name=\"upload run\")\n",
    "\n",
    "for name in pretrained_names:\n",
    "    print('Logging ' + name)\n",
    "    art = wandb.Artifact(name, type='model')\n",
    "    art.add_file('model/' + name + '/config.json')\n",
    "    art.add_file('model/' + name + '/pytorch_model.bin')\n",
    "    art.add_file('model/' + name + '/vocab.txt')\n",
    "    wandb.log_artifact(art)"
   ]
  },
  {
   "cell_type": "code",
   "execution_count": 5,
   "id": "3d0f3c29-d42b-4bed-8400-73f7721a4f76",
   "metadata": {},
   "outputs": [
    {
     "name": "stderr",
     "output_type": "stream",
     "text": [
      "\u001b[34m\u001b[1mwandb\u001b[0m: Currently logged in as: \u001b[33msamtonetto\u001b[0m (\u001b[33msemanticsearch\u001b[0m). Use \u001b[1m`wandb login --relogin`\u001b[0m to force relogin\n"
     ]
    },
    {
     "data": {
      "application/vnd.jupyter.widget-view+json": {
       "model_id": "d18956a4136e4dccbd92380f1e4163e5",
       "version_major": 2,
       "version_minor": 0
      },
      "text/plain": [
       "VBox(children=(Label(value='Waiting for wandb.init()...\\r'), FloatProgress(value=0.03347724278767904, max=1.0)…"
      ]
     },
     "metadata": {},
     "output_type": "display_data"
    },
    {
     "data": {
      "text/html": [
       "Tracking run with wandb version 0.13.3"
      ],
      "text/plain": [
       "<IPython.core.display.HTML object>"
      ]
     },
     "metadata": {},
     "output_type": "display_data"
    },
    {
     "data": {
      "text/html": [
       "Run data is saved locally in <code>/Users/samtonetto/Learning/FSDL2022/FinBERT-QA/model/wandb/run-20220923_204418-1kk5x03j</code>"
      ],
      "text/plain": [
       "<IPython.core.display.HTML object>"
      ]
     },
     "metadata": {},
     "output_type": "display_data"
    },
    {
     "data": {
      "text/html": [
       "Syncing run <strong><a href=\"https://wandb.ai/semanticsearch/FinBERT-QA_finetuned_models/runs/1kk5x03j\" target=\"_blank\">upload run</a></strong> to <a href=\"https://wandb.ai/semanticsearch/FinBERT-QA_finetuned_models\" target=\"_blank\">Weights & Biases</a> (<a href=\"https://wandb.me/run\" target=\"_blank\">docs</a>)<br/>"
      ],
      "text/plain": [
       "<IPython.core.display.HTML object>"
      ]
     },
     "metadata": {},
     "output_type": "display_data"
    },
    {
     "name": "stdout",
     "output_type": "stream",
     "text": [
      "Logging bert-pairwise\n",
      "Logging bert-pointwise\n",
      "Logging finbert-domain\n",
      "Logging finbert-qa\n",
      "Logging finbert-task\n",
      "Logging qa-lstm\n"
     ]
    }
   ],
   "source": [
    "wandb.init(entity=\"semanticsearch\", project=\"FinBERT-QA_finetuned_models\", name=\"upload run\")\n",
    "\n",
    "for i in range(len(finetuned_names)):\n",
    "    print('Logging ' + finetuned_names[i])\n",
    "    art = wandb.Artifact(finetuned_names[i], type='model')\n",
    "    art.add_file('model/trained/' + finetuned_names[i] + '/' + finetuned_models[i])\n",
    "    wandb.log_artifact(art)"
   ]
  }
 ],
 "metadata": {
  "kernelspec": {
   "display_name": "Python 3 (ipykernel)",
   "language": "python",
   "name": "python3"
  },
  "language_info": {
   "codemirror_mode": {
    "name": "ipython",
    "version": 3
   },
   "file_extension": ".py",
   "mimetype": "text/x-python",
   "name": "python",
   "nbconvert_exporter": "python",
   "pygments_lexer": "ipython3",
   "version": "3.10.6"
  }
 },
 "nbformat": 4,
 "nbformat_minor": 5
}
