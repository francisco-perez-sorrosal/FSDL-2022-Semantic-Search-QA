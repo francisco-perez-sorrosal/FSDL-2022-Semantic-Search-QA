{
 "cells": [
  {
   "cell_type": "markdown",
   "id": "9acb4205-cec8-4782-960d-1973d35d823f",
   "metadata": {},
   "source": [
    "# Testing Wandb logging in with api_key from config file, downloading model"
   ]
  },
  {
   "cell_type": "code",
   "execution_count": 3,
   "id": "443e4278-48d6-4edf-860a-9f5a598053bf",
   "metadata": {},
   "outputs": [],
   "source": [
    "import os\n",
    "import wandb\n",
    "import json"
   ]
  },
  {
   "cell_type": "markdown",
   "id": "3a1d4711-8d3a-47de-b8aa-da2a5f032984",
   "metadata": {},
   "source": [
    "## Logging in with api key\n",
    "\n",
    "`keys.json` has a dummy key. wandb api keys have 40 characters and can be found at: https://wandb.ai/authorize"
   ]
  },
  {
   "cell_type": "code",
   "execution_count": 4,
   "id": "0451c89d-dbdd-45cd-92e6-2a001cf7d96d",
   "metadata": {},
   "outputs": [
    {
     "name": "stderr",
     "output_type": "stream",
     "text": [
      "\u001b[34m\u001b[1mwandb\u001b[0m: \u001b[33mWARNING\u001b[0m If you're specifying your api key in code, ensure this code is not shared publicly.\n",
      "\u001b[34m\u001b[1mwandb\u001b[0m: \u001b[33mWARNING\u001b[0m Consider setting the WANDB_API_KEY environment variable, or running `wandb login` from the command line.\n",
      "\u001b[34m\u001b[1mwandb\u001b[0m: Appending key for api.wandb.ai to your netrc file: /Users/samtonetto/.netrc\n"
     ]
    },
    {
     "data": {
      "text/plain": [
       "True"
      ]
     },
     "execution_count": 4,
     "metadata": {},
     "output_type": "execute_result"
    }
   ],
   "source": [
    "if os.path.exists(\"keys.json\"):\n",
    "    with open(\"keys.json\") as file:\n",
    "        api_key = json.load(file)[\"wandb_key\"]\n",
    "        \n",
    "        # Note: We could alternatively set the WANDB_API_KEY environment variable\n",
    "        # os.environ[\"WANDB_API_KEY\"] = api_key\n",
    "        \n",
    "wandb.login(key=api_key, relogin=True)"
   ]
  },
  {
   "cell_type": "markdown",
   "id": "7492e72a-d7e7-44de-b6e1-17350364f15f",
   "metadata": {},
   "source": [
    "## Downloading Model\n",
    "\n",
    "The models on WANDB have been organized into two projects: `FinBERT-QA_pretrained_models` and `FinBERT-QA_finetuned_models`\n",
    "\n",
    "`FinBERT-QA_finetuned_models`:\n",
    "- `qa-lstm`\n",
    "- `finbert-task`    \n",
    "- `finbert-qa`      \n",
    "- `finbert-domain`\n",
    "- `bert-pointwise`\n",
    "- `bert-pairwise`\n",
    "\n",
    "`FinBERT-QA_pretrained_models`\n",
    "- `finbert-task`\n",
    "- `finbert-domain`\n",
    "- `bert-qa`\n",
    "- `bert-base-uncased`\n",
    "- `bert-base`\n",
    "\n",
    "To access a model, `run.use_artifact(<entity>/<project>/<model>:<version>)`\n",
    "\n",
    "In this case, all models are listed as version `v0`.\n",
    "\n",
    "Below is example code for downloading"
   ]
  },
  {
   "cell_type": "code",
   "execution_count": null,
   "id": "8b231144-c06a-4542-bd57-acd4ed60d671",
   "metadata": {},
   "outputs": [],
   "source": [
    "# Everything you do with wandb seems to require association with a \"run\", in this case we have named the run \"test model download\".\n",
    "\n",
    "run = wandb.init(entity='semanticsearch', project='FinBERT-QA_finetuned_models', name = 'test model download')\n",
    "artifact = run.use_artifact('semanticsearch/FinBERT-QA_finetuned_models/finbert-qa:v0', type='model')\n",
    "artifact_dir = artifact.download()"
   ]
  }
 ],
 "metadata": {
  "kernelspec": {
   "display_name": "Python 3 (ipykernel)",
   "language": "python",
   "name": "python3"
  },
  "language_info": {
   "codemirror_mode": {
    "name": "ipython",
    "version": 3
   },
   "file_extension": ".py",
   "mimetype": "text/x-python",
   "name": "python",
   "nbconvert_exporter": "python",
   "pygments_lexer": "ipython3",
   "version": "3.10.6"
  }
 },
 "nbformat": 4,
 "nbformat_minor": 5
}
